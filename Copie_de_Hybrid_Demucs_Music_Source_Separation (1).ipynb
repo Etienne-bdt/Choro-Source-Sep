{
  "nbformat": 4,
  "nbformat_minor": 0,
  "metadata": {
    "colab": {
      "provenance": [],
      "gpuType": "T4"
    },
    "kernelspec": {
      "name": "python3",
      "display_name": "Python 3"
    },
    "language_info": {
      "name": "python"
    },
    "accelerator": "GPU"
  },
  "cells": [
    {
      "cell_type": "markdown",
      "metadata": {
        "id": "uLghRcAdqaph"
      },
      "source": [
        "# Hybrid Demucs from Colab\n",
        "\n",
        "This supports the Demucs source separation model (https://github.com/facebookresearch/demucs/)\n",
        "This is only for separation with pre-trained models, not training!\n",
        "\n",
        "You can either upload files manually (slow) or link your Google Drive account."
      ]
    },
    {
      "cell_type": "code",
      "metadata": {
        "id": "79JbZGcAqX3p",
        "outputId": "e0c18bac-50e6-464d-c150-eae744cb62bc",
        "colab": {
          "base_uri": "https://localhost:8080/"
        },
        "collapsed": true
      },
      "source": [
        "!python3 -m pip install -U git+https://github.com/facebookresearch/demucs#egg=demucs"
      ],
      "execution_count": 45,
      "outputs": [
        {
          "output_type": "stream",
          "name": "stdout",
          "text": [
            "Collecting demucs\n",
            "  Cloning https://github.com/facebookresearch/demucs to /tmp/pip-install-1ezhhq87/demucs_45d52e3baa564b1d8bda680cf276bad9\n",
            "  Running command git clone --filter=blob:none --quiet https://github.com/facebookresearch/demucs /tmp/pip-install-1ezhhq87/demucs_45d52e3baa564b1d8bda680cf276bad9\n",
            "  Resolved https://github.com/facebookresearch/demucs to commit e976d93ecc3865e5757426930257e200846a520a\n",
            "  Preparing metadata (setup.py) ... \u001b[?25l\u001b[?25hdone\n",
            "Requirement already satisfied: dora-search in /usr/local/lib/python3.11/dist-packages (from demucs) (0.1.12)\n",
            "Requirement already satisfied: einops in /usr/local/lib/python3.11/dist-packages (from demucs) (0.8.0)\n",
            "Requirement already satisfied: julius>=0.2.3 in /usr/local/lib/python3.11/dist-packages (from demucs) (0.2.7)\n",
            "Requirement already satisfied: lameenc>=1.2 in /usr/local/lib/python3.11/dist-packages (from demucs) (1.8.1)\n",
            "Requirement already satisfied: openunmix in /usr/local/lib/python3.11/dist-packages (from demucs) (1.3.0)\n",
            "Requirement already satisfied: pyyaml in /usr/local/lib/python3.11/dist-packages (from demucs) (6.0.2)\n",
            "Requirement already satisfied: torch>=1.8.1 in /usr/local/lib/python3.11/dist-packages (from demucs) (2.0.1)\n",
            "Requirement already satisfied: torchaudio<2.1,>=0.8 in /usr/local/lib/python3.11/dist-packages (from demucs) (2.0.2)\n",
            "Requirement already satisfied: tqdm in /usr/local/lib/python3.11/dist-packages (from demucs) (4.67.1)\n",
            "Requirement already satisfied: filelock in /usr/local/lib/python3.11/dist-packages (from torch>=1.8.1->demucs) (3.17.0)\n",
            "Requirement already satisfied: typing-extensions in /usr/local/lib/python3.11/dist-packages (from torch>=1.8.1->demucs) (4.12.2)\n",
            "Requirement already satisfied: sympy in /usr/local/lib/python3.11/dist-packages (from torch>=1.8.1->demucs) (1.13.1)\n",
            "Requirement already satisfied: networkx in /usr/local/lib/python3.11/dist-packages (from torch>=1.8.1->demucs) (3.4.2)\n",
            "Requirement already satisfied: jinja2 in /usr/local/lib/python3.11/dist-packages (from torch>=1.8.1->demucs) (3.1.5)\n",
            "Requirement already satisfied: nvidia-cuda-nvrtc-cu11==11.7.99 in /usr/local/lib/python3.11/dist-packages (from torch>=1.8.1->demucs) (11.7.99)\n",
            "Requirement already satisfied: nvidia-cuda-runtime-cu11==11.7.99 in /usr/local/lib/python3.11/dist-packages (from torch>=1.8.1->demucs) (11.7.99)\n",
            "Requirement already satisfied: nvidia-cuda-cupti-cu11==11.7.101 in /usr/local/lib/python3.11/dist-packages (from torch>=1.8.1->demucs) (11.7.101)\n",
            "Requirement already satisfied: nvidia-cudnn-cu11==8.5.0.96 in /usr/local/lib/python3.11/dist-packages (from torch>=1.8.1->demucs) (8.5.0.96)\n",
            "Requirement already satisfied: nvidia-cublas-cu11==11.10.3.66 in /usr/local/lib/python3.11/dist-packages (from torch>=1.8.1->demucs) (11.10.3.66)\n",
            "Requirement already satisfied: nvidia-cufft-cu11==10.9.0.58 in /usr/local/lib/python3.11/dist-packages (from torch>=1.8.1->demucs) (10.9.0.58)\n",
            "Requirement already satisfied: nvidia-curand-cu11==10.2.10.91 in /usr/local/lib/python3.11/dist-packages (from torch>=1.8.1->demucs) (10.2.10.91)\n",
            "Requirement already satisfied: nvidia-cusolver-cu11==11.4.0.1 in /usr/local/lib/python3.11/dist-packages (from torch>=1.8.1->demucs) (11.4.0.1)\n",
            "Requirement already satisfied: nvidia-cusparse-cu11==11.7.4.91 in /usr/local/lib/python3.11/dist-packages (from torch>=1.8.1->demucs) (11.7.4.91)\n",
            "Requirement already satisfied: nvidia-nccl-cu11==2.14.3 in /usr/local/lib/python3.11/dist-packages (from torch>=1.8.1->demucs) (2.14.3)\n",
            "Requirement already satisfied: nvidia-nvtx-cu11==11.7.91 in /usr/local/lib/python3.11/dist-packages (from torch>=1.8.1->demucs) (11.7.91)\n",
            "Requirement already satisfied: triton==2.0.0 in /usr/local/lib/python3.11/dist-packages (from torch>=1.8.1->demucs) (2.0.0)\n",
            "Requirement already satisfied: setuptools in /usr/local/lib/python3.11/dist-packages (from nvidia-cublas-cu11==11.10.3.66->torch>=1.8.1->demucs) (75.1.0)\n",
            "Requirement already satisfied: wheel in /usr/local/lib/python3.11/dist-packages (from nvidia-cublas-cu11==11.10.3.66->torch>=1.8.1->demucs) (0.45.1)\n",
            "Requirement already satisfied: cmake in /usr/local/lib/python3.11/dist-packages (from triton==2.0.0->torch>=1.8.1->demucs) (3.31.4)\n",
            "Requirement already satisfied: lit in /usr/local/lib/python3.11/dist-packages (from triton==2.0.0->torch>=1.8.1->demucs) (18.1.8)\n",
            "Requirement already satisfied: omegaconf in /usr/local/lib/python3.11/dist-packages (from dora-search->demucs) (2.3.0)\n",
            "Requirement already satisfied: retrying in /usr/local/lib/python3.11/dist-packages (from dora-search->demucs) (1.3.4)\n",
            "Requirement already satisfied: submitit in /usr/local/lib/python3.11/dist-packages (from dora-search->demucs) (1.5.2)\n",
            "Requirement already satisfied: treetable in /usr/local/lib/python3.11/dist-packages (from dora-search->demucs) (0.2.5)\n",
            "Requirement already satisfied: numpy in /usr/local/lib/python3.11/dist-packages (from openunmix->demucs) (1.26.4)\n",
            "Requirement already satisfied: MarkupSafe>=2.0 in /usr/local/lib/python3.11/dist-packages (from jinja2->torch>=1.8.1->demucs) (3.0.2)\n",
            "Requirement already satisfied: antlr4-python3-runtime==4.9.* in /usr/local/lib/python3.11/dist-packages (from omegaconf->dora-search->demucs) (4.9.3)\n",
            "Requirement already satisfied: six>=1.7.0 in /usr/local/lib/python3.11/dist-packages (from retrying->dora-search->demucs) (1.17.0)\n",
            "Requirement already satisfied: cloudpickle>=1.2.1 in /usr/local/lib/python3.11/dist-packages (from submitit->dora-search->demucs) (3.1.1)\n",
            "Requirement already satisfied: mpmath<1.4,>=1.1.0 in /usr/local/lib/python3.11/dist-packages (from sympy->torch>=1.8.1->demucs) (1.3.0)\n"
          ]
        }
      ]
    },
    {
      "cell_type": "code",
      "metadata": {
        "id": "a-2p6OoOrOZK",
        "outputId": "e71b4838-9087-47ff-8726-19a6894fac79",
        "colab": {
          "base_uri": "https://localhost:8080/"
        }
      },
      "source": [
        "# Please BE VERY CAREFUL, this will link your entire drive.\n",
        "# So don't edit code, except the one that says 'Customize the following options',\n",
        "# or you might mess up your files.\n",
        "# IF YOU DO NO WANT TO LINK DRIVE, please see below for an alternative!\n",
        "from google.colab import drive\n",
        "drive.mount('/gdrive')"
      ],
      "execution_count": 46,
      "outputs": [
        {
          "output_type": "stream",
          "name": "stdout",
          "text": [
            "Drive already mounted at /gdrive; to attempt to forcibly remount, call drive.mount(\"/gdrive\", force_remount=True).\n"
          ]
        }
      ]
    },
    {
      "cell_type": "code",
      "metadata": {
        "id": "znCvBifRrO-b"
      },
      "source": [
        "# Customize the following options!\n",
        "model = \"htdemucs\"\n",
        "extensions = [\"mp3\", \"wav\", \"ogg\", \"flac\"]  # we will look for all those file types.\n",
        "two_stems = None   # only separate one stems from the rest, for instance\n",
        "# two_stems = \"vocals\"\n",
        "\n",
        "# Options for the output audio.\n",
        "mp3 = True\n",
        "mp3_rate = 320\n",
        "float32 = False  # output as float 32 wavs, unsused if 'mp3' is True.\n",
        "int24 = False    # output as int24 wavs, unused if 'mp3' is True.\n",
        "# You cannot set both `float32 = True` and `int24 = True` !!\n",
        "\n",
        "in_path = '/gdrive/MyDrive/demucs/'\n",
        "out_path = '/gdrive/MyDrive/demucs_separated/'"
      ],
      "execution_count": 47,
      "outputs": []
    },
    {
      "cell_type": "code",
      "source": [
        "!ls /gdrive/MyDrive/demucs/"
      ],
      "metadata": {
        "id": "JP385nlF3Hve",
        "outputId": "07b4e6a7-d000-4286-8dda-dbc6cf42bb17",
        "colab": {
          "base_uri": "https://localhost:8080/"
        }
      },
      "execution_count": 48,
      "outputs": [
        {
          "output_type": "stream",
          "name": "stdout",
          "text": [
            "mem.mp3  release_models\n"
          ]
        }
      ]
    },
    {
      "cell_type": "code",
      "source": [
        "!python3 -c \"import demucs; print(demucs.__file__)\""
      ],
      "metadata": {
        "id": "bcERcgVv3n-y",
        "outputId": "ce948259-e6dd-4ff8-e7a6-91829924dd88",
        "colab": {
          "base_uri": "https://localhost:8080/"
        }
      },
      "execution_count": 49,
      "outputs": [
        {
          "output_type": "stream",
          "name": "stdout",
          "text": [
            "/usr/local/lib/python3.11/dist-packages/demucs/__init__.py\n"
          ]
        }
      ]
    },
    {
      "cell_type": "code",
      "source": [
        "import os\n",
        "import shutil\n",
        "\n",
        "source_file = \"/usr/local/lib/python3.11/dist-packages/demucs/remote/files.txt\"\n",
        "source_file2 = \"/usr/local/lib/python3.11/dist-packages/demucs/remote/files.txt\"\n",
        "\n",
        "destination_dir = \"/usr/local/lib/python3.11/dist-packages/demucs/remote/mdx.yaml\"\n",
        "destination_file = os.path.join(destination_dir, \"files.txt\")\n",
        "destination_file2 = os.path.join(destination_dir, \"my_bag.yaml\")\n",
        "\n",
        "if not os.path.exists(destination_dir):\n",
        "    os.makedirs(destination_dir)\n",
        "    print(f\"Directory '{destination_dir}' created successfully.\")\n",
        "else:\n",
        "    print(f\"Directory '{destination_dir}' already exists.\")\n",
        "\n",
        "if not os.path.exists(destination_file):\n",
        "    shutil.copy(source_file, destination_file)\n",
        "    print(f\"File copied and renamed to '{destination_file}'.\")\n",
        "else:\n",
        "    print(f\"File '{destination_file}' already exists.\")\n",
        "\n",
        "if not os.path.exists(destination_file2):\n",
        "    shutil.copy(source_file2, destination_file2)\n",
        "    print(f\"File copied and renamed to '{destination_file2}'.\")\n",
        "else:\n",
        "    print(f\"File '{destination_file2}' already exists.\")\n"
      ],
      "metadata": {
        "colab": {
          "base_uri": "https://localhost:8080/"
        },
        "id": "aAJUd3dvPiBH",
        "outputId": "7165970e-5312-49e8-a67b-2153d24bdd45"
      },
      "execution_count": 50,
      "outputs": [
        {
          "output_type": "stream",
          "name": "stdout",
          "text": [
            "Directory '/usr/local/lib/python3.11/dist-packages/demucs/release_models' already exists.\n",
            "File '/usr/local/lib/python3.11/dist-packages/demucs/release_models/files.txt' already exists.\n",
            "File '/usr/local/lib/python3.11/dist-packages/demucs/release_models/my_bag.yaml' already exists.\n"
          ]
        }
      ]
    },
    {
      "cell_type": "code",
      "source": [
        "import urllib.request\n",
        "\n",
        "models_dir = '/usr/local/lib/python3.11/dist-packages/demucs/release_models'\n",
        "\n",
        "model_urls = [\n",
        "\n",
        "    \"https://dl.fbaipublicfiles.com/demucs/mdx_final/0d19c1c6-0f06f20e.th\",\n",
        "    \"https://dl.fbaipublicfiles.com/demucs/mdx_final/7ecf8ec1-70f50cc9.th\",\n",
        "    \"https://dl.fbaipublicfiles.com/demucs/mdx_final/c511e2ab-fe698775.th\",\n",
        "    \"https://dl.fbaipublicfiles.com/demucs/mdx_final/7d865c68-3d5dd56b.th\",\n",
        "\n",
        "]\n",
        "\n",
        "os.makedirs(models_dir, exist_ok=True)\n",
        "\n",
        "for url in model_urls:\n",
        "    filename = os.path.join(models_dir, url.split(\"/\")[-1])\n",
        "    if not os.path.exists(filename):\n",
        "        print(f\"Downloading {url}...\")\n",
        "        urllib.request.urlretrieve(url, filename)\n",
        "    else:\n",
        "        print(f\"{filename} already exists.\")"
      ],
      "metadata": {
        "colab": {
          "base_uri": "https://localhost:8080/"
        },
        "id": "b_5Y5JAGg42h",
        "outputId": "b3fdef30-6e86-430d-b641-420a45d93db8"
      },
      "execution_count": 51,
      "outputs": [
        {
          "output_type": "stream",
          "name": "stdout",
          "text": [
            "/usr/local/lib/python3.11/dist-packages/demucs/release_models/0d19c1c6-0f06f20e.th already exists.\n",
            "/usr/local/lib/python3.11/dist-packages/demucs/release_models/7ecf8ec1-70f50cc9.th already exists.\n",
            "/usr/local/lib/python3.11/dist-packages/demucs/release_models/c511e2ab-fe698775.th already exists.\n",
            "/usr/local/lib/python3.11/dist-packages/demucs/release_models/7d865c68-3d5dd56b.th already exists.\n"
          ]
        }
      ]
    },
    {
      "cell_type": "code",
      "source": [
        "!ls /usr/local/lib/python3.11/dist-packages/demucs/release_models"
      ],
      "metadata": {
        "colab": {
          "base_uri": "https://localhost:8080/"
        },
        "id": "c80eRJ-Z_Pta",
        "outputId": "1cb191ad-f448-4c92-ecad-fe5e266a3df6"
      },
      "execution_count": 52,
      "outputs": [
        {
          "output_type": "stream",
          "name": "stdout",
          "text": [
            "0d19c1c6-0f06f20e.th  7ecf8ec1-70f50cc9.th  files.txt\n",
            "7d865c68-3d5dd56b.th  c511e2ab-fe698775.th  my_bag.yaml\n"
          ]
        }
      ]
    },
    {
      "cell_type": "code",
      "source": [
        "models_dir2 = '/gdrive/MyDrive/demucs/release_models'\n",
        "\n",
        "model_urls2 = [\n",
        "\n",
        "    \"https://dl.fbaipublicfiles.com/demucs/mdx_final/0d19c1c6-0f06f20e.th\",\n",
        "    \"https://dl.fbaipublicfiles.com/demucs/mdx_final/7ecf8ec1-70f50cc9.th\",\n",
        "    \"https://dl.fbaipublicfiles.com/demucs/mdx_final/c511e2ab-fe698775.th\",\n",
        "    \"https://dl.fbaipublicfiles.com/demucs/mdx_final/7d865c68-3d5dd56b.th\",\n",
        "]\n",
        "\n",
        "os.makedirs(models_dir2, exist_ok=True)\n",
        "\n",
        "for url in model_urls2:\n",
        "    filename = os.path.join(models_dir2, url.split(\"/\")[-1])\n",
        "    if not os.path.exists(filename):\n",
        "        print(f\"Downloading {url}...\")\n",
        "        urllib.request.urlretrieve(url, filename)\n",
        "    else:\n",
        "        print(f\"{filename} already exists.\")"
      ],
      "metadata": {
        "colab": {
          "base_uri": "https://localhost:8080/"
        },
        "id": "iR9ONlqzZ0Zu",
        "outputId": "5d5a8cc4-0bfa-431e-c686-34dd279a55e7"
      },
      "execution_count": 53,
      "outputs": [
        {
          "output_type": "stream",
          "name": "stdout",
          "text": [
            "/gdrive/MyDrive/demucs/release_models/0d19c1c6-0f06f20e.th already exists.\n",
            "/gdrive/MyDrive/demucs/release_models/7ecf8ec1-70f50cc9.th already exists.\n",
            "/gdrive/MyDrive/demucs/release_models/c511e2ab-fe698775.th already exists.\n",
            "/gdrive/MyDrive/demucs/release_models/7d865c68-3d5dd56b.th already exists.\n"
          ]
        }
      ]
    },
    {
      "cell_type": "code",
      "source": [
        "!demucs --repo /usr/local/lib/python3.11/dist-packages/demucs/release_models -n my_bag /gdrive/MyDrive/demucs/mem.mp3"
      ],
      "metadata": {
        "colab": {
          "base_uri": "https://localhost:8080/"
        },
        "id": "CsX5XI7L-57I",
        "outputId": "60822954-7cb4-4a41-9930-a9aa479d02eb"
      },
      "execution_count": 54,
      "outputs": [
        {
          "output_type": "stream",
          "name": "stdout",
          "text": [
            "Selected model is a bag of 4 models. You will see that many progress bars per track.\n",
            "Separated tracks will be stored in /content/separated/my_bag\n",
            "Separating track /gdrive/MyDrive/demucs/mem.mp3\n",
            "100%|████████████████████████████████████████████████████████████████████████| 168.0/168.0 [03:53<00:00,  1.39s/seconds]\n",
            " 50%|████████████████████████████████████▌                                    | 84.0/168.0 [03:34<03:34,  2.55s/seconds]\n",
            "Traceback (most recent call last):\n",
            "  File \"/usr/local/bin/demucs\", line 8, in <module>\n",
            "    sys.exit(main())\n",
            "             ^^^^^^\n",
            "  File \"/usr/local/lib/python3.11/dist-packages/demucs/separate.py\", line 162, in main\n",
            "    origin, res = separator.separate_audio_file(track)\n",
            "                  ^^^^^^^^^^^^^^^^^^^^^^^^^^^^^^^^^^^^\n",
            "  File \"/usr/local/lib/python3.11/dist-packages/demucs/api.py\", line 307, in separate_audio_file\n",
            "    return self.separate_tensor(self._load_audio(file), self.samplerate)\n",
            "           ^^^^^^^^^^^^^^^^^^^^^^^^^^^^^^^^^^^^^^^^^^^^^^^^^^^^^^^^^^^^^\n",
            "  File \"/usr/local/lib/python3.11/dist-packages/demucs/api.py\", line 270, in separate_tensor\n",
            "    out = apply_model(\n",
            "          ^^^^^^^^^^^^\n",
            "  File \"/usr/local/lib/python3.11/dist-packages/demucs/apply.py\", line 216, in apply_model\n",
            "    res = apply_model(sub_model, mix, **kwargs, callback_arg=callback_arg)\n",
            "          ^^^^^^^^^^^^^^^^^^^^^^^^^^^^^^^^^^^^^^^^^^^^^^^^^^^^^^^^^^^^^^^^\n",
            "  File \"/usr/local/lib/python3.11/dist-packages/demucs/apply.py\", line 251, in apply_model\n",
            "    res = apply_model(model, shifted, **kwargs, callback_arg=callback_arg)\n",
            "          ^^^^^^^^^^^^^^^^^^^^^^^^^^^^^^^^^^^^^^^^^^^^^^^^^^^^^^^^^^^^^^^^\n",
            "  File \"/usr/local/lib/python3.11/dist-packages/demucs/apply.py\", line 290, in apply_model\n",
            "    chunk_out = future.result()  # type: th.Tensor\n",
            "                ^^^^^^^^^^^^^^^\n",
            "  File \"/usr/local/lib/python3.11/dist-packages/demucs/utils.py\", line 132, in result\n",
            "    return self.func(*self.args, **self.kwargs)\n",
            "           ^^^^^^^^^^^^^^^^^^^^^^^^^^^^^^^^^^^^\n",
            "  File \"/usr/local/lib/python3.11/dist-packages/demucs/apply.py\", line 317, in apply_model\n",
            "    out = model(padded_mix)\n",
            "          ^^^^^^^^^^^^^^^^^\n",
            "  File \"/usr/local/lib/python3.11/dist-packages/torch/nn/modules/module.py\", line 1501, in _call_impl\n",
            "    return forward_call(*args, **kwargs)\n",
            "           ^^^^^^^^^^^^^^^^^^^^^^^^^^^^^\n",
            "  File \"/usr/local/lib/python3.11/dist-packages/demucs/demucs.py\", line 420, in forward\n",
            "    x = encode(x)\n",
            "        ^^^^^^^^^\n",
            "  File \"/usr/local/lib/python3.11/dist-packages/torch/nn/modules/module.py\", line 1501, in _call_impl\n",
            "    return forward_call(*args, **kwargs)\n",
            "           ^^^^^^^^^^^^^^^^^^^^^^^^^^^^^\n",
            "  File \"/usr/local/lib/python3.11/dist-packages/torch/nn/modules/container.py\", line 217, in forward\n",
            "    input = module(input)\n",
            "            ^^^^^^^^^^^^^\n",
            "  File \"/usr/local/lib/python3.11/dist-packages/torch/nn/modules/module.py\", line 1501, in _call_impl\n",
            "    return forward_call(*args, **kwargs)\n",
            "           ^^^^^^^^^^^^^^^^^^^^^^^^^^^^^\n",
            "  File \"/usr/local/lib/python3.11/dist-packages/torch/nn/modules/activation.py\", line 685, in forward\n",
            "    return F.gelu(input, approximate=self.approximate)\n",
            "           ^^^^^^^^^^^^^^^^^^^^^^^^^^^^^^^^^^^^^^^^^^^\n",
            "KeyboardInterrupt\n",
            "^C\n"
          ]
        }
      ]
    },
    {
      "cell_type": "code",
      "metadata": {
        "id": "kMKN9BN4r37E"
      },
      "source": [
        "#@title Useful functions, don't forget to execute\n",
        "import io\n",
        "from pathlib import Path\n",
        "import select\n",
        "from shutil import rmtree\n",
        "import subprocess as sp\n",
        "import sys\n",
        "from typing import Dict, Tuple, Optional, IO\n",
        "\n",
        "from google.colab import files\n",
        "\n",
        "def find_files(in_path):\n",
        "    out = []\n",
        "    for file in Path(in_path).iterdir():\n",
        "        if file.suffix.lower().lstrip(\".\") in extensions:\n",
        "            out.append(file)\n",
        "    return out\n",
        "\n",
        "def copy_process_streams(process: sp.Popen):\n",
        "    def raw(stream: Optional[IO[bytes]]) -> IO[bytes]:\n",
        "        assert stream is not None\n",
        "        if isinstance(stream, io.BufferedIOBase):\n",
        "            stream = stream.raw\n",
        "        return stream\n",
        "\n",
        "    p_stdout, p_stderr = raw(process.stdout), raw(process.stderr)\n",
        "    stream_by_fd: Dict[int, Tuple[IO[bytes], io.StringIO, IO[str]]] = {\n",
        "        p_stdout.fileno(): (p_stdout, sys.stdout),\n",
        "        p_stderr.fileno(): (p_stderr, sys.stderr),\n",
        "    }\n",
        "    fds = list(stream_by_fd.keys())\n",
        "\n",
        "    while fds:\n",
        "        # `select` syscall will wait until one of the file descriptors has content.\n",
        "        ready, _, _ = select.select(fds, [], [])\n",
        "        for fd in ready:\n",
        "            p_stream, std = stream_by_fd[fd]\n",
        "            raw_buf = p_stream.read(2 ** 16)\n",
        "            if not raw_buf:\n",
        "                fds.remove(fd)\n",
        "                continue\n",
        "            buf = raw_buf.decode()\n",
        "            std.write(buf)\n",
        "            std.flush()\n",
        "\n",
        "def separate(inp=None, outp=None, model=\"my_bag\"):\n",
        "    inp = inp or in_path\n",
        "    outp = outp or out_path\n",
        "    cmd = [\"python3\", \"-m\", \"demucs.separate\", \"-o\", str(outp), \"-n\", model]\n",
        "    if mp3:\n",
        "        cmd += [\"--mp3\", f\"--mp3-bitrate={mp3_rate}\"]\n",
        "    if float32:\n",
        "        cmd += [\"--float32\"]\n",
        "    if int24:\n",
        "        cmd += [\"--int24\"]\n",
        "    if two_stems is not None:\n",
        "        cmd += [f\"--two-stems={two_stems}\"]\n",
        "\n",
        "    cmd += [\"--repo\", \"/gdrive/MyDrive/demucs/release_models\"]\n",
        "\n",
        "    files = [str(f) for f in find_files(inp)]\n",
        "    if not files:\n",
        "        print(f\"No valid audio files in {in_path}\")\n",
        "        return\n",
        "    print(\"Going to separate the files:\")\n",
        "    print('\\n'.join(files))\n",
        "    print(\"With command: \", \" \".join(cmd))\n",
        "    p = sp.Popen(cmd + files, stdout=sp.PIPE, stderr=sp.PIPE)\n",
        "    copy_process_streams(p)\n",
        "    p.wait()\n",
        "    if p.returncode != 0:\n",
        "        print(\"Command failed, something went wrong.\")\n",
        "\n",
        "\n",
        "def from_upload():\n",
        "    out_path = Path('separated')\n",
        "    in_path = Path('tmp_in')\n",
        "\n",
        "    if in_path.exists():\n",
        "        rmtree(in_path)\n",
        "    in_path.mkdir()\n",
        "\n",
        "    if out_path.exists():\n",
        "        rmtree(out_path)\n",
        "    out_path.mkdir()\n",
        "\n",
        "    uploaded = files.upload()\n",
        "    for name, content in uploaded.items():\n",
        "        (in_path / name).write_bytes(content)\n",
        "    separate(in_path, out_path)"
      ],
      "execution_count": 55,
      "outputs": []
    },
    {
      "cell_type": "code",
      "metadata": {
        "id": "gr9OJvf-tYyt",
        "outputId": "62430d80-f986-4a65-d9c3-da61506dac57",
        "colab": {
          "base_uri": "https://localhost:8080/"
        }
      },
      "source": [
        "# This can be quite slow, in particular the loading, and saving from GDrive. Please be patient!\n",
        "# This is from google drive! Also, this will separate all the files inside the MyDrive/demucs folder,\n",
        "# so when you are happy with the results, remove the songs from there.\n",
        "separate()"
      ],
      "execution_count": null,
      "outputs": [
        {
          "output_type": "stream",
          "name": "stdout",
          "text": [
            "Going to separate the files:\n",
            "/gdrive/MyDrive/demucs/mem.mp3\n",
            "With command:  python3 -m demucs.separate -o /gdrive/MyDrive/demucs_separated/ -n my_bag --mp3 --mp3-bitrate=320 --repo /gdrive/MyDrive/demucs/release_models\n",
            "Selected model is a bag of 4 models. You will see that many progress bars per track.\n",
            "Separated tracks will be stored in /gdrive/MyDrive/demucs_separated/my_bag\n",
            "Separating track /gdrive/MyDrive/demucs/mem.mp3\n"
          ]
        },
        {
          "output_type": "stream",
          "name": "stderr",
          "text": [
            "100%|████████████████████████████████████████████████████████████████████████| 168.0/168.0 [04:04<00:00,  1.45s/seconds]\n",
            "100%|████████████████████████████████████████████████████████████████████████| 168.0/168.0 [04:17<00:00,  1.53s/seconds]\n",
            "  0%|                                                                                  | 0.0/168.0 [00:00<?, ?seconds/s]"
          ]
        }
      ]
    },
    {
      "cell_type": "code",
      "metadata": {
        "id": "v__3gMJawTD0"
      },
      "source": [
        "# This is manual upload and download :)\n",
        "from_upload()\n",
        "!zip -r separated.zip separated\n",
        "files.download('./separated.zip')"
      ],
      "execution_count": null,
      "outputs": []
    }
  ]
}