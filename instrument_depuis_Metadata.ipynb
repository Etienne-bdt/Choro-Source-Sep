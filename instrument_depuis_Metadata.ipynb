{
 "cells": [
  {
   "cell_type": "code",
   "execution_count": 10,
   "metadata": {},
   "outputs": [
    {
     "name": "stdout",
     "output_type": "stream",
     "text": [
      "Fichiers contenant une mandoline : ['ChrisJacoby_BoothShotLincoln_METADATA.yaml', 'ChrisJacoby_PigsFoot_METADATA.yaml', 'CountingCrows_AccidentallyInLove_METADATA.yaml', 'Phoenix_ElzicsFarewell_METADATA.yaml', 'Phoenix_SeanCaughlinsTheScartaglen_METADATA.yaml', 'TablaBreakbeatScience_MiloVsMongo_METADATA.yaml', 'TablaBreakbeatScience_PhaseTransition_METADATA.yaml', 'TablaBreakbeatScience_RockSteady_METADATA.yaml', 'TablaBreakbeatScience_Vger_METADATA.yaml', 'TablaBreakbeatScience_WhoIsIt_METADATA.yaml']\n"
     ]
    }
   ],
   "source": [
    "import os\n",
    "import yaml\n",
    "import shutil\n",
    "\n",
    "\n",
    "def find_mandoline_files(directory):\n",
    "    mandoline_files = []\n",
    "\n",
    "    # Parcours des fichiers du répertoire\n",
    "    for filename in os.listdir(directory):\n",
    "        if filename.endswith(\".yaml\"):  # Filtrer uniquement les fichiers YAML\n",
    "            filepath = os.path.join(directory, filename)\n",
    "\n",
    "            # Charger le fichier YAML\n",
    "            with open(filepath, \"r\", encoding=\"utf-8\") as file:\n",
    "                try:\n",
    "                    data = yaml.safe_load(file)\n",
    "                    \n",
    "                    # Vérifier si \"mandoline\" apparaît dans les instruments\n",
    "                    if \"stems\" in data:\n",
    "                        for stem in data[\"stems\"].values():\n",
    "                            if \"instrument\" in stem:\n",
    "                                instrument = stem[\"instrument\"]\n",
    "                                \n",
    "                                # Vérifier si c'est une liste ou une chaîne\n",
    "                                if isinstance(instrument, list):\n",
    "                                    if any(\"mandolin\" in inst.lower() for inst in instrument):\n",
    "                                        mandoline_files.append(filename)\n",
    "                                        shutil.copy(filepath, os.path.join(target_folder, filename))\n",
    "\n",
    "                                        break  # Passer au fichier suivant si trouvé\n",
    "                                elif isinstance(instrument, str):\n",
    "                                    if \"mandolin\" in instrument.lower():\n",
    "                                        mandoline_files.append(filename)\n",
    "                                        shutil.copy(filepath, os.path.join(target_folder, filename))\n",
    "\n",
    "                                        break\n",
    "\n",
    "                except yaml.YAMLError as e:\n",
    "                    print(f\"Erreur de lecture du fichier {filename}: {e}\")\n",
    "\n",
    "    return mandoline_files\n",
    "\n",
    "# Exemple d'utilisation\n",
    "dossier_yaml = \"D:/users/bureau/test_medley/medleydb/medleydb/data/Metadata\"\n",
    "target_folder = \"D:/users/bureau/test_medley/mando_medley\"  # Nouveau dossier\n",
    "\n",
    "resultats = find_mandoline_files(dossier_yaml)\n",
    "\n",
    "print(\"Fichiers contenant une mandoline :\", resultats)\n"
   ]
  }
 ],
 "metadata": {
  "kernelspec": {
   "display_name": "Python 3",
   "language": "python",
   "name": "python3"
  },
  "language_info": {
   "codemirror_mode": {
    "name": "ipython",
    "version": 3
   },
   "file_extension": ".py",
   "mimetype": "text/x-python",
   "name": "python",
   "nbconvert_exporter": "python",
   "pygments_lexer": "ipython3",
   "version": "3.10.10"
  }
 },
 "nbformat": 4,
 "nbformat_minor": 2
}
