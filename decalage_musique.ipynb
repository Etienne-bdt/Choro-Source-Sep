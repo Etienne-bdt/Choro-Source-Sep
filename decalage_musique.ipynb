{
 "cells": [
  {
   "cell_type": "code",
   "execution_count": 3,
   "metadata": {},
   "outputs": [],
   "source": [
    "import matplotlib.pyplot as plt\n",
    "import librosa as lb\n",
    "import numpy as np\n",
    "import scipy.signal as ss"
   ]
  },
  {
   "cell_type": "code",
   "execution_count": 21,
   "metadata": {},
   "outputs": [],
   "source": [
    "def calcul_decalage(path_file_full,path_file_background,fech=44100,nb_valid=1,plot=False):\n",
    "    #### Fonction qui calcule le décalage entre 2 audio en utilisant la corrélation\n",
    "    # path_file_full prends en entrée le chemin vers le fichier audio entier. Cela doit être une chaine de caractère.\n",
    "    # path_file_background prends en entrée le chemin vers le fichier audio qui n'a que le background. Cela doit être une chaine de caractère.\n",
    "    # fech est la fréquence d'échantillonage des signaux audio\n",
    "    # plot est pour afficher l'autocorrelation\n",
    "    # La fonction renvoie en 1er argument le décalage en temps et en deuxième argument le décalage en nombre de décalage a faire pour les aligner.\n",
    "    y, sr = lb.load(path_file_full,sr=fech)\n",
    "    y2, sr2 = lb.load(path_file_background,sr=fech)\n",
    "\n",
    "    milieu_signal=np.int32(np.max(np.shape(y))/(2*sr))\n",
    "    print(\"milieu signal = \",milieu_signal)\n",
    "    temps_deb_f=(milieu_signal-25)*sr\n",
    "    temps_fin_f=(milieu_signal+25)*sr\n",
    "    temps_deb_b=(milieu_signal-10)*sr\n",
    "    temps_fin_b=(milieu_signal+10)*sr\n",
    "    signal_tout=np.array(y)\n",
    "    signal_backgroung=np.array(y2)\n",
    "    signal_full_tronque=signal_tout[temps_deb_f:temps_fin_f]\n",
    "    signal_backgroung_tronque=signal_backgroung[temps_deb_b:temps_fin_b]\n",
    "\n",
    "\n",
    "    corr_mes=ss.correlate(signal_backgroung_tronque,signal_full_tronque,'valid')\n",
    "\n",
    "    if plot==True :\n",
    "        temps=(np.arange(np.max(np.shape(signal_full_tronque)))/sr-25)\n",
    "        len_cor=np.max(np.shape(corr_mes))\n",
    "        len_tp=np.max(np.shape(signal_full_tronque))\n",
    "        plt.figure()\n",
    "        plt.plot(temps[np.int32((len_tp-len_cor)/2):np.int32((len_tp+len_cor)/2)],corr_mes)\n",
    "        plt.title(\"Mesure de la corrélation entre les 2 signaux audio\")\n",
    "        plt.xlabel(\"temps en seconde\")\n",
    "        plt.ylabel(\"score de correlation\")\n",
    "        plt.show()\n",
    "\n",
    "    pos_max=np.argwhere(corr_mes==np.max(corr_mes))\n",
    "    temps=(temps_deb_f+pos_max[0][0])/sr\n",
    "    decalage=temps-temps_deb_b/sr\n",
    "    print('le décalage est de',decalage,'s')\n",
    "    return(decalage,pos_max[0][0])"
   ]
  },
  {
   "cell_type": "code",
   "execution_count": 23,
   "metadata": {},
   "outputs": [
    {
     "name": "stdout",
     "output_type": "stream",
     "text": [
      "milieu signal =  121\n",
      "le décalage est de 4.053174603174597 s\n"
     ]
    }
   ],
   "source": [
    "dc , e = calcul_decalage('./base_donnees_deorian/deo_rian/DR-01-branquinha-ft.mp3','./base_donnees_deorian/deo_rian/DR-01-branquinha-pb.mp3',plot=False)"
   ]
  }
 ],
 "metadata": {
  "kernelspec": {
   "display_name": "Python 3",
   "language": "python",
   "name": "python3"
  },
  "language_info": {
   "codemirror_mode": {
    "name": "ipython",
    "version": 3
   },
   "file_extension": ".py",
   "mimetype": "text/x-python",
   "name": "python",
   "nbconvert_exporter": "python",
   "pygments_lexer": "ipython3",
   "version": "3.11.9"
  }
 },
 "nbformat": 4,
 "nbformat_minor": 2
}
